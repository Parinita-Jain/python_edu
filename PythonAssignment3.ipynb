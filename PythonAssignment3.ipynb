{
  "nbformat": 4,
  "nbformat_minor": 0,
  "metadata": {
    "colab": {
      "provenance": []
    },
    "kernelspec": {
      "name": "python3",
      "display_name": "Python 3"
    },
    "language_info": {
      "name": "python"
    }
  },
  "cells": [
    {
      "cell_type": "code",
      "source": [
        "import hashlib\n",
        "\n",
        "def encrypt_reference_id(reference_id):\n",
        "    encrypted_reference_id = hashlib.sha256(reference_id.encode()).hexdigest()\n",
        "    return encrypted_reference_id\n",
        "\n",
        "def main():\n",
        "    reference_id = input(\"Enter Reference ID: \")\n",
        "\n",
        "    if len(reference_id) == 12 and reference_id.isalnum():\n",
        "        encrypted_id = encrypt_reference_id(reference_id)\n",
        "        print(\"Encrypted Reference ID:\", encrypted_id)\n",
        "    else:\n",
        "        print(\"Invalid Reference ID\")\n",
        "\n",
        "if __name__ == \"__main__\":\n",
        "    main()\n"
      ],
      "metadata": {
        "colab": {
          "base_uri": "https://localhost:8080/"
        },
        "id": "6vp4O4xBaAVg",
        "outputId": "91559652-d7c9-4a71-bc21-601405bee459"
      },
      "execution_count": 26,
      "outputs": [
        {
          "output_type": "stream",
          "name": "stdout",
          "text": [
            "Enter Reference ID: 123456789987\n",
            "Encrypted Reference ID: b2b63c4422b0a063f2282e4a847ea6b98c696459ca901567963111f9e428ddc3\n"
          ]
        }
      ]
    },
    {
      "cell_type": "code",
      "source": [],
      "metadata": {
        "id": "hS_eLl_MaAZr"
      },
      "execution_count": null,
      "outputs": []
    },
    {
      "cell_type": "code",
      "source": [],
      "metadata": {
        "id": "bi9M7TGnW45-"
      },
      "execution_count": null,
      "outputs": []
    }
  ]
}