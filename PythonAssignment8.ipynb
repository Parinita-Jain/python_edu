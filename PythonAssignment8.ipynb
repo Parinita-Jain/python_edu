{
  "nbformat": 4,
  "nbformat_minor": 0,
  "metadata": {
    "colab": {
      "provenance": []
    },
    "kernelspec": {
      "name": "python3",
      "display_name": "Python 3"
    },
    "language_info": {
      "name": "python"
    }
  },
  "cells": [
    {
      "cell_type": "code",
      "source": [
        "import pandas as pd\n",
        "\n",
        "# Step 1: Read the three CSV files\n",
        "math_data = pd.read_csv('MathScoreTerm1.csv')\n",
        "ds_data = pd.read_csv('DSScoreTerm1.csv')\n",
        "physics_data = pd.read_csv('PhysicsScoreTerm1.csv')\n",
        "\n",
        "# Step 2: Remove the name and ethnicity columns\n",
        "math_data = math_data.drop(['Name', 'Ethinicity'], axis=1)\n",
        "ds_data = ds_data.drop(['Name', 'Ethinicity'], axis=1)\n",
        "physics_data = physics_data.drop(['Name', 'Ethinicity'], axis=1)\n",
        "\n",
        "# Step 3: Fill missing score data with zero\n",
        "math_data = math_data.fillna(0)\n",
        "ds_data = ds_data.fillna(0)\n",
        "physics_data = physics_data.fillna(0)\n",
        "\n",
        "# Step 4: Merge the three files\n",
        "merged_data = pd.merge(math_data, ds_data, on='ID')\n",
        "merged_data = pd.merge(merged_data, physics_data, on='ID')\n",
        "\n",
        "# Step 5: Change Sex(M/F) Column to 1/2\n",
        "merged_data['Sex'] = merged_data['Sex'].map({'M': 1, 'F': 2})\n",
        "\n",
        "# Step 6: Store the data in a new file\n",
        "merged_data.to_csv('ScoreFinal.csv', index=False)\n"
      ],
      "metadata": {
        "id": "UocDx1ejhbBX"
      },
      "execution_count": 2,
      "outputs": []
    },
    {
      "cell_type": "code",
      "source": [],
      "metadata": {
        "id": "XyOFfcc2ha-_"
      },
      "execution_count": null,
      "outputs": []
    },
    {
      "cell_type": "code",
      "source": [],
      "metadata": {
        "id": "-hkimhITha83"
      },
      "execution_count": null,
      "outputs": []
    },
    {
      "cell_type": "code",
      "source": [],
      "metadata": {
        "id": "2o4JhI02ha6c"
      },
      "execution_count": null,
      "outputs": []
    },
    {
      "cell_type": "code",
      "source": [],
      "metadata": {
        "id": "ziTO4zGJha4Q"
      },
      "execution_count": null,
      "outputs": []
    },
    {
      "cell_type": "code",
      "source": [],
      "metadata": {
        "id": "MwmBODFdha14"
      },
      "execution_count": null,
      "outputs": []
    },
    {
      "cell_type": "code",
      "source": [],
      "metadata": {
        "id": "zB8nLMZZhax_"
      },
      "execution_count": null,
      "outputs": []
    },
    {
      "cell_type": "code",
      "source": [],
      "metadata": {
        "id": "qngwsvONhavu"
      },
      "execution_count": null,
      "outputs": []
    },
    {
      "cell_type": "code",
      "source": [],
      "metadata": {
        "id": "0qSNff_Lhatj"
      },
      "execution_count": null,
      "outputs": []
    }
  ]
}