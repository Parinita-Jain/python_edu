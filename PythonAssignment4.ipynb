{
  "nbformat": 4,
  "nbformat_minor": 0,
  "metadata": {
    "colab": {
      "provenance": []
    },
    "kernelspec": {
      "name": "python3",
      "display_name": "Python 3"
    },
    "language_info": {
      "name": "python"
    }
  },
  "cells": [
    {
      "cell_type": "code",
      "source": [
        "import math\n",
        "\n",
        "def calculate_distance(movements):\n",
        "    x, y = 0, 0\n",
        "\n",
        "    for movement in movements:\n",
        "        direction, steps = movement.split()\n",
        "        steps = int(steps)\n",
        "\n",
        "        if direction == \"UP\":\n",
        "            y += steps\n",
        "        elif direction == \"DOWN\":\n",
        "            y -= steps\n",
        "        elif direction == \"LEFT\":\n",
        "            x -= steps\n",
        "        elif direction == \"RIGHT\":\n",
        "            x += steps\n",
        "\n",
        "    distance = math.sqrt(x**2 + y**2)\n",
        "    return distance\n",
        "\n",
        "def main():\n",
        "    movements = [\"UP 5\", \"DOWN 3\", \"LEFT 3\", \"RIGHT 2\"]\n",
        "    final_distance = calculate_distance(movements)\n",
        "\n",
        "    print(f\"Final distance from origin: {final_distance:.2f}\")\n",
        "\n",
        "if __name__ == \"__main__\":\n",
        "    main()\n"
      ],
      "metadata": {
        "colab": {
          "base_uri": "https://localhost:8080/"
        },
        "id": "zURUC1B8dzj0",
        "outputId": "9595b0b4-ea65-41aa-e4ff-909d17717a8c"
      },
      "execution_count": 27,
      "outputs": [
        {
          "output_type": "stream",
          "name": "stdout",
          "text": [
            "Final distance from origin: 2.24\n"
          ]
        }
      ]
    },
    {
      "cell_type": "code",
      "source": [
        "def binary_search(sorted_list, target):\n",
        "    left, right = 0, len(sorted_list) - 1\n",
        "\n",
        "    while left <= right:\n",
        "        mid = (left + right) // 2\n",
        "        if sorted_list[mid] == target:\n",
        "            return mid\n",
        "        elif sorted_list[mid] < target:\n",
        "            left = mid + 1\n",
        "        else:\n",
        "            right = mid - 1\n",
        "\n",
        "    return -1\n",
        "\n",
        "def main():\n",
        "    data = [12, 24, 35, 47, 58, 69, 80, 91]\n",
        "    target = int(input(\"Enter the value to search: \"))\n",
        "\n",
        "    index = binary_search(data, target)\n",
        "\n",
        "    if index != -1:\n",
        "        print(f\"Value {target} found at index {index}.\")\n",
        "    else:\n",
        "        print(f\"Value {target} not found in the list.\")\n",
        "\n",
        "if __name__ == \"__main__\":\n",
        "    main()\n"
      ],
      "metadata": {
        "colab": {
          "base_uri": "https://localhost:8080/"
        },
        "id": "8Wq36lAZeirw",
        "outputId": "52734e61-d20d-4c2e-d3ba-59cf8f153e06"
      },
      "execution_count": 28,
      "outputs": [
        {
          "output_type": "stream",
          "name": "stdout",
          "text": [
            "Enter the value to search: 69\n",
            "Value 69 found at index 5.\n"
          ]
        }
      ]
    },
    {
      "cell_type": "code",
      "source": [
        "import time\n",
        "\n",
        "def is_dark_outside():\n",
        "    current_hour = time.localtime().tm_hour\n",
        "    return current_hour < 6 or current_hour >= 18\n",
        "\n",
        "def main():\n",
        "    if is_dark_outside():\n",
        "        print(\"It's dark outside.\")\n",
        "    else:\n",
        "        print(\"It's not dark outside.\")\n",
        "\n",
        "if __name__ == \"__main__\":\n",
        "    main()\n"
      ],
      "metadata": {
        "colab": {
          "base_uri": "https://localhost:8080/"
        },
        "id": "uUzCoburgdE5",
        "outputId": "0b313f9e-e140-4c7a-8cc7-eadf55dfda36"
      },
      "execution_count": 29,
      "outputs": [
        {
          "output_type": "stream",
          "name": "stdout",
          "text": [
            "It's not dark outside.\n"
          ]
        }
      ]
    },
    {
      "cell_type": "code",
      "source": [
        "import math\n",
        "\n",
        "def haversine_distance(lat1, lon1, lat2, lon2):\n",
        "    R = 6371  # Radius of the Earth in kilometers\n",
        "\n",
        "    # Convert latitude and longitude from degrees to radians\n",
        "    lat1 = math.radians(lat1)\n",
        "    lon1 = math.radians(lon1)\n",
        "    lat2 = math.radians(lat2)\n",
        "    lon2 = math.radians(lon2)\n",
        "\n",
        "    dlat = lat2 - lat1\n",
        "    dlon = lon2 - lon1\n",
        "\n",
        "    a = math.sin(dlat/2)**2 + math.cos(lat1) * math.cos(lat2) * math.sin(dlon/2)**2\n",
        "    c = 2 * math.atan2(math.sqrt(a), math.sqrt(1 - a))\n",
        "\n",
        "    distance = R * c\n",
        "    return distance\n",
        "\n",
        "def main():\n",
        "    lat1 = float(input(\"Enter latitude of location 1: \"))\n",
        "    lon1 = float(input(\"Enter longitude of location 1: \"))\n",
        "    lat2 = float(input(\"Enter latitude of location 2: \"))\n",
        "    lon2 = float(input(\"Enter longitude of location 2: \"))\n",
        "\n",
        "    distance = haversine_distance(lat1, lon1, lat2, lon2)\n",
        "    print(f\"Distance between the two locations: {distance:.2f} kilometers\")\n",
        "\n",
        "if __name__ == \"__main__\":\n",
        "    main()\n"
      ],
      "metadata": {
        "colab": {
          "base_uri": "https://localhost:8080/"
        },
        "id": "0hwo70fugdGu",
        "outputId": "33a3ad20-363f-4b05-cbe9-35b64e00f1aa"
      },
      "execution_count": 30,
      "outputs": [
        {
          "output_type": "stream",
          "name": "stdout",
          "text": [
            "Enter latitude of location 1: 78\n",
            "Enter longitude of location 1: 87\n",
            "Enter latitude of location 2: 67\n",
            "Enter longitude of location 2: 76\n",
            "Distance between the two locations: 1272.02 kilometers\n"
          ]
        }
      ]
    },
    {
      "cell_type": "code",
      "source": [
        "class BankSystem:\n",
        "    def __init__(self):\n",
        "        self.balance = 0\n",
        "        self.password = \"1234\"  # Initial password\n",
        "\n",
        "    def display_menu(self):\n",
        "        print(\"1. Cash Withdraw\")\n",
        "        print(\"2. Cash Credit\")\n",
        "        print(\"3. Change Password\")\n",
        "        print(\"4. Exit\")\n",
        "\n",
        "    def cash_withdraw(self, amount):\n",
        "        if amount <= self.balance:\n",
        "            self.balance -= amount\n",
        "            print(f\"Withdrawal successful. Current balance: {self.balance}\")\n",
        "        else:\n",
        "            print(\"Insufficient balance.\")\n",
        "\n",
        "    def cash_credit(self, amount):\n",
        "        self.balance += amount\n",
        "        print(f\"Amount credited. Current balance: {self.balance}\")\n",
        "\n",
        "    def change_password(self, new_password):\n",
        "        self.password = new_password\n",
        "        print(\"Password changed successfully.\")\n",
        "\n",
        "    def run(self):\n",
        "        while True:\n",
        "            self.display_menu()\n",
        "            choice = int(input(\"Enter your choice: \"))\n",
        "\n",
        "            if choice == 1:\n",
        "                amount = float(input(\"Enter the amount to withdraw: \"))\n",
        "                self.cash_withdraw(amount)\n",
        "            elif choice == 2:\n",
        "                amount = float(input(\"Enter the amount to credit: \"))\n",
        "                self.cash_credit(amount)\n",
        "            elif choice == 3:\n",
        "                new_password = input(\"Enter the new password: \")\n",
        "                self.change_password(new_password)\n",
        "            elif choice == 4:\n",
        "                print(\"Exiting the bank system.\")\n",
        "                break\n",
        "            else:\n",
        "                print(\"Invalid choice. Please select a valid option.\")\n",
        "\n",
        "def main():\n",
        "    bank = BankSystem()\n",
        "    bank.run()\n",
        "\n",
        "if __name__ == \"__main__\":\n",
        "    main()\n"
      ],
      "metadata": {
        "colab": {
          "base_uri": "https://localhost:8080/"
        },
        "id": "EQsiTIG9gdI5",
        "outputId": "5bc5653b-6345-4c5d-f5ca-938b746057d0"
      },
      "execution_count": 31,
      "outputs": [
        {
          "output_type": "stream",
          "name": "stdout",
          "text": [
            "1. Cash Withdraw\n",
            "2. Cash Credit\n",
            "3. Change Password\n",
            "4. Exit\n",
            "Enter your choice: 2\n",
            "Enter the amount to credit: 1000\n",
            "Amount credited. Current balance: 1000.0\n",
            "1. Cash Withdraw\n",
            "2. Cash Credit\n",
            "3. Change Password\n",
            "4. Exit\n",
            "Enter your choice: 4\n",
            "Exiting the bank system.\n"
          ]
        }
      ]
    },
    {
      "cell_type": "code",
      "source": [
        "def main():\n",
        "    divisible_numbers = []\n",
        "\n",
        "    for num in range(2000, 3201):\n",
        "        if num % 7 == 0 and num % 5 != 0:\n",
        "            divisible_numbers.append(num)\n",
        "\n",
        "    result = \", \".join(map(str, divisible_numbers))\n",
        "    print(result)\n",
        "\n",
        "if __name__ == \"__main__\":\n",
        "    main()\n"
      ],
      "metadata": {
        "colab": {
          "base_uri": "https://localhost:8080/"
        },
        "id": "-eyUK8OgkKWS",
        "outputId": "3e3d4bdb-f442-484a-8260-05fc9ea4909a"
      },
      "execution_count": 32,
      "outputs": [
        {
          "output_type": "stream",
          "name": "stdout",
          "text": [
            "2002, 2009, 2016, 2023, 2037, 2044, 2051, 2058, 2072, 2079, 2086, 2093, 2107, 2114, 2121, 2128, 2142, 2149, 2156, 2163, 2177, 2184, 2191, 2198, 2212, 2219, 2226, 2233, 2247, 2254, 2261, 2268, 2282, 2289, 2296, 2303, 2317, 2324, 2331, 2338, 2352, 2359, 2366, 2373, 2387, 2394, 2401, 2408, 2422, 2429, 2436, 2443, 2457, 2464, 2471, 2478, 2492, 2499, 2506, 2513, 2527, 2534, 2541, 2548, 2562, 2569, 2576, 2583, 2597, 2604, 2611, 2618, 2632, 2639, 2646, 2653, 2667, 2674, 2681, 2688, 2702, 2709, 2716, 2723, 2737, 2744, 2751, 2758, 2772, 2779, 2786, 2793, 2807, 2814, 2821, 2828, 2842, 2849, 2856, 2863, 2877, 2884, 2891, 2898, 2912, 2919, 2926, 2933, 2947, 2954, 2961, 2968, 2982, 2989, 2996, 3003, 3017, 3024, 3031, 3038, 3052, 3059, 3066, 3073, 3087, 3094, 3101, 3108, 3122, 3129, 3136, 3143, 3157, 3164, 3171, 3178, 3192, 3199\n"
          ]
        }
      ]
    },
    {
      "cell_type": "code",
      "source": [
        "def factorial(n):\n",
        "    if n == 0 or n == 1:\n",
        "        return 1\n",
        "    else:\n",
        "        return n * factorial(n - 1)\n",
        "\n",
        "def main():\n",
        "    num = int(input(\"Enter a non-negative integer: \"))\n",
        "\n",
        "    if num < 0:\n",
        "        print(\"Factorial is not defined for negative numbers.\")\n",
        "    else:\n",
        "        result = factorial(num)\n",
        "        print(f\"The factorial of {num} is {result}\")\n",
        "\n",
        "if __name__ == \"__main__\":\n",
        "    main()\n"
      ],
      "metadata": {
        "colab": {
          "base_uri": "https://localhost:8080/"
        },
        "id": "UZfFDUz_kZpQ",
        "outputId": "159ad354-41ca-4a3a-a56d-2d0a275fc176"
      },
      "execution_count": 33,
      "outputs": [
        {
          "output_type": "stream",
          "name": "stdout",
          "text": [
            "Enter a non-negative integer: 8\n",
            "The factorial of 8 is 40320\n"
          ]
        }
      ]
    },
    {
      "cell_type": "code",
      "source": [
        "import math\n",
        "\n",
        "def calculate_q(d):\n",
        "    c = 50\n",
        "    h = 30\n",
        "    q = math.sqrt((2 * c * d) / h)\n",
        "    return q\n",
        "\n",
        "def main():\n",
        "    input_values = input(\"Enter values of D (comma-separated): \")\n",
        "    d_values = [int(x) for x in input_values.split(\",\")]\n",
        "\n",
        "    q_values = [int(calculate_q(d)) for d in d_values]\n",
        "\n",
        "    print(\"Calculated values of Q:\", q_values)\n",
        "\n",
        "if __name__ == \"__main__\":\n",
        "    main()\n"
      ],
      "metadata": {
        "colab": {
          "base_uri": "https://localhost:8080/"
        },
        "id": "fi9g9dYzkZ3e",
        "outputId": "f5adaa06-6318-4e2f-d60d-a1d29595e53c"
      },
      "execution_count": 35,
      "outputs": [
        {
          "output_type": "stream",
          "name": "stdout",
          "text": [
            "Enter values of D (comma-separated): 100,150,180\n",
            "Calculated values of Q: [18, 22, 24]\n"
          ]
        }
      ]
    },
    {
      "cell_type": "code",
      "source": [
        "def generate_2d_array(X, Y):\n",
        "    array_2d = []\n",
        "\n",
        "    for i in range(X):\n",
        "        row = []\n",
        "        for j in range(Y):\n",
        "            row.append(i * j)\n",
        "        array_2d.append(row)\n",
        "\n",
        "    return array_2d\n",
        "\n",
        "def main():\n",
        "    X = int(input(\"Enter the value of X: \"))\n",
        "    Y = int(input(\"Enter the value of Y: \"))\n",
        "    5\n",
        "    result = generate_2d_array(X, Y)\n",
        "    print(result)\n",
        "\n",
        "\n",
        "\n",
        "\n",
        "if __name__ == \"__main__\":\n",
        "    main()\n"
      ],
      "metadata": {
        "colab": {
          "base_uri": "https://localhost:8080/"
        },
        "id": "M2bOTpG9kKYe",
        "outputId": "1d493b25-bd63-4496-ef5a-e13ce80ef578"
      },
      "execution_count": 41,
      "outputs": [
        {
          "output_type": "stream",
          "name": "stdout",
          "text": [
            "Enter the value of X: 3\n",
            "Enter the value of Y: 5\n",
            "[[0, 0, 0, 0, 0], [0, 1, 2, 3, 4], [0, 2, 4, 6, 8]]\n"
          ]
        }
      ]
    },
    {
      "cell_type": "code",
      "source": [
        "def main():\n",
        "    input_sequence = input(\"Enter a comma-separated sequence of words: \")\n",
        "    words = [word.strip() for word in input_sequence.split(\",\")]\n",
        "\n",
        "    sorted_words = sorted(words)\n",
        "    sorted_sequence = \", \".join(sorted_words)\n",
        "\n",
        "    print(\"Sorted words:\", sorted_sequence)\n",
        "\n",
        "if __name__ == \"__main__\":\n",
        "    main()\n"
      ],
      "metadata": {
        "colab": {
          "base_uri": "https://localhost:8080/"
        },
        "id": "y4MdrnT9mJ8I",
        "outputId": "5ed14cfa-f293-49b1-e49f-b39d4e735ed4"
      },
      "execution_count": 42,
      "outputs": [
        {
          "output_type": "stream",
          "name": "stdout",
          "text": [
            "Enter a comma-separated sequence of words: without,hello,bag,world\n",
            "Sorted words: bag, hello, without, world\n"
          ]
        }
      ]
    },
    {
      "cell_type": "code",
      "source": [
        "def main():\n",
        "    lines = []\n",
        "    while True:\n",
        "        line = input(\"Enter a line (or 'exit' to stop): \")\n",
        "        if line.lower() == \"exit\":\n",
        "            break\n",
        "        lines.append(line)\n",
        "\n",
        "    capitalized_lines = [line.upper() for line in lines]\n",
        "\n",
        "    print(\"Capitalized lines:\")\n",
        "    for line in capitalized_lines:\n",
        "        print(line)\n",
        "\n",
        "if __name__ == \"__main__\":\n",
        "    main()\n"
      ],
      "metadata": {
        "colab": {
          "base_uri": "https://localhost:8080/"
        },
        "id": "wcDWyJ_ImKIM",
        "outputId": "7c4a047f-5a48-429f-ff69-5d94fe9e239a"
      },
      "execution_count": 43,
      "outputs": [
        {
          "output_type": "stream",
          "name": "stdout",
          "text": [
            "Enter a line (or 'exit' to stop): Hello world\n",
            "Enter a line (or 'exit' to stop): Practice makes perfect\n",
            "Enter a line (or 'exit' to stop): exit\n",
            "Capitalized lines:\n",
            "HELLO WORLD\n",
            "PRACTICE MAKES PERFECT\n"
          ]
        }
      ]
    },
    {
      "cell_type": "code",
      "source": [
        "def main():\n",
        "    input_sequence = input(\"Enter a sequence of whitespace-separated words: \")\n",
        "    words = input_sequence.split()\n",
        "\n",
        "    unique_words = list(set(words))\n",
        "    unique_words.sort()\n",
        "\n",
        "    print(\"Sorted unique words:\")\n",
        "    for word in unique_words:\n",
        "        print(word)\n",
        "\n",
        "if __name__ == \"__main__\":\n",
        "    main()\n"
      ],
      "metadata": {
        "colab": {
          "base_uri": "https://localhost:8080/"
        },
        "id": "OyJNIPq1mKKI",
        "outputId": "ba11d7b1-c283-4a25-b09c-768f0f5b4eec"
      },
      "execution_count": 44,
      "outputs": [
        {
          "output_type": "stream",
          "name": "stdout",
          "text": [
            "Enter a sequence of whitespace-separated words: hello world and practice makes perfect and hello world again\n",
            "Sorted unique words:\n",
            "again\n",
            "and\n",
            "hello\n",
            "makes\n",
            "perfect\n",
            "practice\n",
            "world\n"
          ]
        }
      ]
    },
    {
      "cell_type": "code",
      "source": [
        "def is_divisible_by_5(binary_number):\n",
        "    decimal_number = int(binary_number, 2)\n",
        "    print(decimal_number)\n",
        "    return decimal_number % 5 == 0\n",
        "\n",
        "def main():\n",
        "    input_sequence = input(\"Enter a sequence of comma-separated 4-digit binary numbers: \")\n",
        "    binary_numbers = input_sequence.split(\",\")\n",
        "\n",
        "    divisible_by_5_numbers = [binary_number for binary_number in binary_numbers if is_divisible_by_5(binary_number)]\n",
        "\n",
        "    print(\"Binary numbers divisible by 5:\")\n",
        "    print(\", \".join(divisible_by_5_numbers))\n",
        "\n",
        "if __name__ == \"__main__\":\n",
        "    main()\n"
      ],
      "metadata": {
        "colab": {
          "base_uri": "https://localhost:8080/"
        },
        "id": "6uusRcvOmKL5",
        "outputId": "9506b1fe-a6e1-48dd-bcba-581dbafef079"
      },
      "execution_count": 46,
      "outputs": [
        {
          "output_type": "stream",
          "name": "stdout",
          "text": [
            "Enter a sequence of comma-separated 4-digit binary numbers: 0100,0011,1010,1001\n",
            "4\n",
            "3\n",
            "10\n",
            "9\n",
            "Binary numbers divisible by 5:\n",
            "1010\n"
          ]
        }
      ]
    },
    {
      "cell_type": "code",
      "source": [
        "def count_upper_lower(sentence):\n",
        "    upper_count = 0\n",
        "    lower_count = 0\n",
        "\n",
        "    for char in sentence:\n",
        "        if char.isupper():\n",
        "            upper_count += 1\n",
        "        elif char.islower():\n",
        "            lower_count += 1\n",
        "\n",
        "    return upper_count, lower_count\n",
        "\n",
        "def main():\n",
        "    sentence = input(\"Enter a sentence: \")\n",
        "    upper_count, lower_count = count_upper_lower(sentence)\n",
        "\n",
        "    print(f\"Number of uppercase letters: {upper_count}\")\n",
        "    print(f\"Number of lowercase letters: {lower_count}\")\n",
        "\n",
        "if __name__ == \"__main__\":\n",
        "    main()\n"
      ],
      "metadata": {
        "colab": {
          "base_uri": "https://localhost:8080/"
        },
        "id": "lthW0tY383AT",
        "outputId": "eafeeb71-6696-47ad-e33b-c304d4c2206e"
      },
      "execution_count": 47,
      "outputs": [
        {
          "output_type": "stream",
          "name": "stdout",
          "text": [
            "Enter a sentence: Hello World\n",
            "Number of uppercase letters: 2\n",
            "Number of lowercase letters: 8\n"
          ]
        }
      ]
    },
    {
      "cell_type": "code",
      "source": [
        "import math\n",
        "\n",
        "numbers = [0.1, 0.2, 0.3]\n",
        "result = math.fsum(numbers)\n",
        "\n",
        "print(\"Sum using fsum:\", result)\n"
      ],
      "metadata": {
        "colab": {
          "base_uri": "https://localhost:8080/"
        },
        "id": "ZAe5PRPi83Og",
        "outputId": "881f5c69-2ae9-4711-a0d2-f5d541ba04fb"
      },
      "execution_count": 48,
      "outputs": [
        {
          "output_type": "stream",
          "name": "stdout",
          "text": [
            "Sum using fsum: 0.6\n"
          ]
        }
      ]
    },
    {
      "cell_type": "code",
      "source": [
        "numbers = [1, 2, 3, 4, 5]\n",
        "result = sum(numbers)\n",
        "\n",
        "print(\"Sum using sum:\", result)\n"
      ],
      "metadata": {
        "colab": {
          "base_uri": "https://localhost:8080/"
        },
        "id": "4ug2-d089afl",
        "outputId": "9b2fc904-0af4-4d26-d2e7-6a1010831a51"
      },
      "execution_count": 49,
      "outputs": [
        {
          "output_type": "stream",
          "name": "stdout",
          "text": [
            "Sum using sum: 15\n"
          ]
        }
      ]
    },
    {
      "cell_type": "code",
      "source": [],
      "metadata": {
        "id": "RlYirvqk83Qo"
      },
      "execution_count": null,
      "outputs": []
    },
    {
      "cell_type": "code",
      "source": [],
      "metadata": {
        "id": "qRl7pUqW83Sq"
      },
      "execution_count": null,
      "outputs": []
    },
    {
      "cell_type": "code",
      "source": [],
      "metadata": {
        "id": "COodjZcG83Wg"
      },
      "execution_count": null,
      "outputs": []
    },
    {
      "cell_type": "code",
      "source": [],
      "metadata": {
        "id": "rrh7i5RomKPj"
      },
      "execution_count": null,
      "outputs": []
    },
    {
      "cell_type": "code",
      "source": [],
      "metadata": {
        "id": "QAoCiJizmKSg"
      },
      "execution_count": null,
      "outputs": []
    },
    {
      "cell_type": "code",
      "source": [],
      "metadata": {
        "id": "KcLpT152mKUG"
      },
      "execution_count": null,
      "outputs": []
    },
    {
      "cell_type": "code",
      "source": [],
      "metadata": {
        "id": "do3KcAm2mKWQ"
      },
      "execution_count": null,
      "outputs": []
    },
    {
      "cell_type": "code",
      "source": [],
      "metadata": {
        "id": "GH1m6yvemKYH"
      },
      "execution_count": null,
      "outputs": []
    },
    {
      "cell_type": "code",
      "source": [],
      "metadata": {
        "id": "rhxAMTrbkKac"
      },
      "execution_count": null,
      "outputs": []
    },
    {
      "cell_type": "code",
      "source": [],
      "metadata": {
        "id": "78VAnDjmkKcy"
      },
      "execution_count": null,
      "outputs": []
    },
    {
      "cell_type": "code",
      "source": [],
      "metadata": {
        "id": "SC9vGho2kKe9"
      },
      "execution_count": null,
      "outputs": []
    },
    {
      "cell_type": "code",
      "source": [],
      "metadata": {
        "id": "NMCHWgOggdLy"
      },
      "execution_count": null,
      "outputs": []
    },
    {
      "cell_type": "code",
      "source": [],
      "metadata": {
        "id": "b6F9mpLPeiwF"
      },
      "execution_count": null,
      "outputs": []
    },
    {
      "cell_type": "code",
      "source": [],
      "metadata": {
        "id": "TVOzE6WteiyN"
      },
      "execution_count": null,
      "outputs": []
    },
    {
      "cell_type": "code",
      "source": [],
      "metadata": {
        "id": "y4COQuDSei0f"
      },
      "execution_count": null,
      "outputs": []
    },
    {
      "cell_type": "code",
      "source": [],
      "metadata": {
        "id": "hS_eLl_MaAZr"
      },
      "execution_count": null,
      "outputs": []
    },
    {
      "cell_type": "code",
      "source": [],
      "metadata": {
        "id": "bi9M7TGnW45-"
      },
      "execution_count": null,
      "outputs": []
    }
  ]
}