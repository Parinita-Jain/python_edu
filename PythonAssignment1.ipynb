{
  "nbformat": 4,
  "nbformat_minor": 0,
  "metadata": {
    "colab": {
      "provenance": []
    },
    "kernelspec": {
      "name": "python3",
      "display_name": "Python 3"
    },
    "language_info": {
      "name": "python"
    }
  },
  "cells": [
    {
      "cell_type": "code",
      "execution_count": 1,
      "metadata": {
        "colab": {
          "base_uri": "https://localhost:8080/"
        },
        "id": "LX1A058pFFhu",
        "outputId": "a6522484-d88c-481c-baed-6c8192dc9b7b"
      },
      "outputs": [
        {
          "output_type": "stream",
          "name": "stdout",
          "text": [
            "Enter a number: 10\n",
            "Factors of 10: [1, 2, 5, 10]\n",
            "1 is odd\n",
            "2 is even\n",
            "5 is odd\n",
            "10 is even\n"
          ]
        }
      ],
      "source": [
        "def find_factors_and_even_odd(num):\n",
        "    factors = []\n",
        "\n",
        "    for i in range(1, num + 1):\n",
        "        if num % i == 0:\n",
        "            factors.append(i)\n",
        "\n",
        "    print(f\"Factors of {num}: {factors}\")\n",
        "\n",
        "    for factor in factors:\n",
        "        if factor % 2 == 0:\n",
        "            print(f\"{factor} is even\")\n",
        "        else:\n",
        "            print(f\"{factor} is odd\")\n",
        "\n",
        "# Input a number from the user\n",
        "num = int(input(\"Enter a number: \"))\n",
        "\n",
        "# Call the function to find factors and even/odd status\n",
        "find_factors_and_even_odd(num)\n"
      ]
    },
    {
      "cell_type": "code",
      "source": [
        "def main():\n",
        "    # Accept input from the user as a space-separated sequence of words\n",
        "    input_sequence = input(\"Enter a sequence of words: \")\n",
        "\n",
        "    # Split the input sequence into individual words\n",
        "    words = input_sequence.split()\n",
        "\n",
        "    # Sort the words alphabetically\n",
        "    sorted_words = sorted(words)\n",
        "\n",
        "    # Print the sorted words\n",
        "    print(\"Sorted words:\")\n",
        "    for word in sorted_words:\n",
        "        print(word)\n",
        "\n",
        "if __name__ == \"__main__\":\n",
        "    main()\n"
      ],
      "metadata": {
        "colab": {
          "base_uri": "https://localhost:8080/"
        },
        "id": "_HV2pWE-FP-w",
        "outputId": "20a8a9d3-b7d4-42e2-ab53-d72a2764c422"
      },
      "execution_count": 2,
      "outputs": [
        {
          "output_type": "stream",
          "name": "stdout",
          "text": [
            "Enter a sequence of words: help me in sequencing\n",
            "Sorted words:\n",
            "help\n",
            "in\n",
            "me\n",
            "sequencing\n"
          ]
        }
      ]
    },
    {
      "cell_type": "code",
      "source": [
        "def all_even_digits(number):\n",
        "    for digit in str(number):\n",
        "        if int(digit) % 2 != 0:\n",
        "            return False\n",
        "    return True\n",
        "\n",
        "def main():\n",
        "    even_digit_numbers = []\n",
        "\n",
        "    for num in range(1000, 3001):\n",
        "        if all_even_digits(num):\n",
        "            even_digit_numbers.append(num)\n",
        "\n",
        "    print(','.join(map(str, even_digit_numbers)))\n",
        "\n",
        "if __name__ == \"__main__\":\n",
        "    main()\n"
      ],
      "metadata": {
        "colab": {
          "base_uri": "https://localhost:8080/"
        },
        "id": "K3eV8lZiFQBT",
        "outputId": "8a9d8886-5ba2-4164-b5d0-24e263e83b13"
      },
      "execution_count": 3,
      "outputs": [
        {
          "output_type": "stream",
          "name": "stdout",
          "text": [
            "2000,2002,2004,2006,2008,2020,2022,2024,2026,2028,2040,2042,2044,2046,2048,2060,2062,2064,2066,2068,2080,2082,2084,2086,2088,2200,2202,2204,2206,2208,2220,2222,2224,2226,2228,2240,2242,2244,2246,2248,2260,2262,2264,2266,2268,2280,2282,2284,2286,2288,2400,2402,2404,2406,2408,2420,2422,2424,2426,2428,2440,2442,2444,2446,2448,2460,2462,2464,2466,2468,2480,2482,2484,2486,2488,2600,2602,2604,2606,2608,2620,2622,2624,2626,2628,2640,2642,2644,2646,2648,2660,2662,2664,2666,2668,2680,2682,2684,2686,2688,2800,2802,2804,2806,2808,2820,2822,2824,2826,2828,2840,2842,2844,2846,2848,2860,2862,2864,2866,2868,2880,2882,2884,2886,2888\n"
          ]
        }
      ]
    },
    {
      "cell_type": "code",
      "source": [
        "def count_letters_and_digits(sentence):\n",
        "    num_letters = 0\n",
        "    num_digits = 0\n",
        "\n",
        "    for char in sentence:\n",
        "        if char.isalpha():\n",
        "            num_letters += 1\n",
        "        elif char.isdigit():\n",
        "            num_digits += 1\n",
        "\n",
        "    return num_letters, num_digits\n",
        "\n",
        "def main():\n",
        "    input_sentence = input(\"Enter a sentence: \")\n",
        "\n",
        "    num_letters, num_digits = count_letters_and_digits(input_sentence)\n",
        "\n",
        "    print(f\"Number of letters: {num_letters}\")\n",
        "    print(f\"Number of digits: {num_digits}\")\n",
        "\n",
        "if __name__ == \"__main__\":\n",
        "    main()\n"
      ],
      "metadata": {
        "colab": {
          "base_uri": "https://localhost:8080/"
        },
        "id": "5wYSiQesFQGb",
        "outputId": "2525e51f-8fc4-472b-e56c-16537a5af6e4"
      },
      "execution_count": 4,
      "outputs": [
        {
          "output_type": "stream",
          "name": "stdout",
          "text": [
            "Enter a sentence: Python0325\n",
            "Number of letters: 6\n",
            "Number of digits: 4\n"
          ]
        }
      ]
    },
    {
      "cell_type": "code",
      "source": [
        "def is_palindrome(number):\n",
        "    # Convert the number to a string\n",
        "    num_str = str(number)\n",
        "\n",
        "    # Reverse the string\n",
        "    reversed_str = num_str[::-1]\n",
        "\n",
        "    # Compare the original and reversed strings\n",
        "    if num_str == reversed_str:\n",
        "        return True\n",
        "    else:\n",
        "        return False\n",
        "\n",
        "def main():\n",
        "    num = int(input(\"Enter a number: \"))\n",
        "\n",
        "    if is_palindrome(num):\n",
        "        print(f\"{num} is a palindrome number.\")\n",
        "    else:\n",
        "        print(f\"{num} is not a palindrome number.\")\n",
        "\n",
        "if __name__ == \"__main__\":\n",
        "    main()\n"
      ],
      "metadata": {
        "colab": {
          "base_uri": "https://localhost:8080/"
        },
        "id": "Awckw6F6G5BE",
        "outputId": "a700e259-ad33-4aa0-e051-80f5c2b1a2b8"
      },
      "execution_count": 6,
      "outputs": [
        {
          "output_type": "stream",
          "name": "stdout",
          "text": [
            "Enter a number: 12321\n",
            "12321 is a palindrome number.\n"
          ]
        }
      ]
    }
  ]
}