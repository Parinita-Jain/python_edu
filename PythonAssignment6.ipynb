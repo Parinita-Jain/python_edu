{
  "nbformat": 4,
  "nbformat_minor": 0,
  "metadata": {
    "colab": {
      "provenance": []
    },
    "kernelspec": {
      "name": "python3",
      "display_name": "Python 3"
    },
    "language_info": {
      "name": "python"
    }
  },
  "cells": [
    {
      "cell_type": "code",
      "source": [
        "import csv\n",
        "import re\n",
        "\n",
        "class CustomerNotAllowedException(Exception):\n",
        "    pass\n",
        "\n",
        "class Customer:\n",
        "    def __init__(self, title, first_name, last_name, email, blacklisted):\n",
        "        self.title = title\n",
        "        self.first_name = first_name\n",
        "        self.last_name = last_name\n",
        "        self.email = email\n",
        "        self.blacklisted = blacklisted\n",
        "\n",
        "def read_customer_data(filename):\n",
        "    customers = []\n",
        "\n",
        "    with open(filename, \"r\") as file:\n",
        "        csv_reader = csv.reader(file)\n",
        "        next(csv_reader)  # Skip the header line\n",
        "        for row in csv_reader:\n",
        "            full_name = row[0]\n",
        "            title, first_name, last_name = re.match(r\"(Mr|Ms)\\. (\\w+) (\\w+)\", full_name).groups()\n",
        "            email = row[1]\n",
        "            blacklisted = int(row[2])\n",
        "            customer = Customer(title, first_name, last_name, email, blacklisted)\n",
        "            customers.append(customer)\n",
        "\n",
        "    return customers\n",
        "\n",
        "def create_order(customer):\n",
        "    if customer.blacklisted == 1:\n",
        "        raise CustomerNotAllowedException(\"Customer is not allowed to create an order.\")\n",
        "\n",
        "    # Implement order creation logic here\n",
        "\n",
        "def main():\n",
        "    filename = \"FairDealCustomerData.csv\"\n",
        "    customers = read_customer_data(filename)\n",
        "\n",
        "    for customer in customers:\n",
        "        try:\n",
        "            create_order(customer)\n",
        "            print(f\"Order created for {customer.first_name} {customer.last_name}\")\n",
        "        except CustomerNotAllowedException as e:\n",
        "            print(f\"Order not allowed for {customer.first_name} {customer.last_name}: {e}\")\n",
        "\n",
        "if __name__ == \"__main__\":\n",
        "    main()\n"
      ],
      "metadata": {
        "id": "COodjZcG83Wg"
      },
      "execution_count": null,
      "outputs": []
    },
    {
      "cell_type": "code",
      "source": [],
      "metadata": {
        "id": "rrh7i5RomKPj"
      },
      "execution_count": null,
      "outputs": []
    },
    {
      "cell_type": "code",
      "source": [],
      "metadata": {
        "id": "QAoCiJizmKSg"
      },
      "execution_count": null,
      "outputs": []
    },
    {
      "cell_type": "code",
      "source": [],
      "metadata": {
        "id": "KcLpT152mKUG"
      },
      "execution_count": null,
      "outputs": []
    },
    {
      "cell_type": "code",
      "source": [],
      "metadata": {
        "id": "do3KcAm2mKWQ"
      },
      "execution_count": null,
      "outputs": []
    },
    {
      "cell_type": "code",
      "source": [],
      "metadata": {
        "id": "GH1m6yvemKYH"
      },
      "execution_count": null,
      "outputs": []
    },
    {
      "cell_type": "code",
      "source": [],
      "metadata": {
        "id": "rhxAMTrbkKac"
      },
      "execution_count": null,
      "outputs": []
    },
    {
      "cell_type": "code",
      "source": [],
      "metadata": {
        "id": "78VAnDjmkKcy"
      },
      "execution_count": null,
      "outputs": []
    },
    {
      "cell_type": "code",
      "source": [],
      "metadata": {
        "id": "SC9vGho2kKe9"
      },
      "execution_count": null,
      "outputs": []
    },
    {
      "cell_type": "code",
      "source": [],
      "metadata": {
        "id": "NMCHWgOggdLy"
      },
      "execution_count": null,
      "outputs": []
    },
    {
      "cell_type": "code",
      "source": [],
      "metadata": {
        "id": "b6F9mpLPeiwF"
      },
      "execution_count": null,
      "outputs": []
    },
    {
      "cell_type": "code",
      "source": [],
      "metadata": {
        "id": "TVOzE6WteiyN"
      },
      "execution_count": null,
      "outputs": []
    },
    {
      "cell_type": "code",
      "source": [],
      "metadata": {
        "id": "y4COQuDSei0f"
      },
      "execution_count": null,
      "outputs": []
    },
    {
      "cell_type": "code",
      "source": [],
      "metadata": {
        "id": "hS_eLl_MaAZr"
      },
      "execution_count": null,
      "outputs": []
    },
    {
      "cell_type": "code",
      "source": [],
      "metadata": {
        "id": "bi9M7TGnW45-"
      },
      "execution_count": null,
      "outputs": []
    }
  ]
}