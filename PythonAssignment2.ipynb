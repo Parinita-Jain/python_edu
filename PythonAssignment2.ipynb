{
  "nbformat": 4,
  "nbformat_minor": 0,
  "metadata": {
    "colab": {
      "provenance": []
    },
    "kernelspec": {
      "name": "python3",
      "display_name": "Python 3"
    },
    "language_info": {
      "name": "python"
    }
  },
  "cells": [
    {
      "cell_type": "code",
      "source": [
        "nums =set([1,1,2,3,3,3,4,4])\n",
        "print(len(nums))"
      ],
      "metadata": {
        "colab": {
          "base_uri": "https://localhost:8080/"
        },
        "id": "occ1OCXkW4pc",
        "outputId": "cf3b2dae-597d-43d2-aa7a-1acc0776fed7"
      },
      "execution_count": 7,
      "outputs": [
        {
          "output_type": "stream",
          "name": "stdout",
          "text": [
            "4\n"
          ]
        }
      ]
    },
    {
      "cell_type": "code",
      "source": [
        "d ={\"john\":40, \"peter\":45}\n",
        "print(list(d.keys()))"
      ],
      "metadata": {
        "colab": {
          "base_uri": "https://localhost:8080/"
        },
        "id": "06fSmE8HW4rQ",
        "outputId": "e519d04a-6ec1-4750-dbc3-708a13e166cc"
      },
      "execution_count": 9,
      "outputs": [
        {
          "output_type": "stream",
          "name": "stdout",
          "text": [
            "['john', 'peter']\n"
          ]
        }
      ]
    },
    {
      "cell_type": "code",
      "source": [
        "import re\n",
        "\n",
        "def is_valid_password(password):\n",
        "    # Criteria 1: At least 1 letter between [a-z]\n",
        "    if not re.search(\"[a-z]\", password):\n",
        "        return False\n",
        "\n",
        "    # Criteria 2: At least 1 number between [0-9]\n",
        "    if not re.search(\"[0-9]\", password):\n",
        "        return False\n",
        "\n",
        "    # Criteria 3: At least 1 letter between [A-Z]\n",
        "    if not re.search(\"[A-Z]\", password):\n",
        "        return False\n",
        "\n",
        "    # Criteria 4: At least 1 character from [$#@]\n",
        "    if not re.search(\"[$#@]\", password):\n",
        "        return False\n",
        "\n",
        "    # Criteria 5: Minimum length of 6 and maximum length of 12\n",
        "    if len(password) < 6 or len(password) > 12:\n",
        "        return False\n",
        "\n",
        "    return True\n",
        "\n",
        "def main():\n",
        "    password = input(\"Enter a password: \")\n",
        "\n",
        "    if is_valid_password(password):\n",
        "        print(\"Valid password.\")\n",
        "    else:\n",
        "        print(\"Invalid password.\")\n",
        "\n",
        "if __name__ == \"__main__\":\n",
        "    main()\n"
      ],
      "metadata": {
        "colab": {
          "base_uri": "https://localhost:8080/"
        },
        "id": "diPyxzYFW4tY",
        "outputId": "a85b1f68-4b19-4a87-a849-3ac6b04a5917"
      },
      "execution_count": 11,
      "outputs": [
        {
          "output_type": "stream",
          "name": "stdout",
          "text": [
            "Enter a password: aaAA00$$\n",
            "Valid password.\n"
          ]
        }
      ]
    },
    {
      "cell_type": "code",
      "source": [
        "a = [4, 7, 3, 2, 5, 9]\n",
        "\n",
        "for index, value in enumerate(a):\n",
        "    print(f\"Element at position {index} is {value}\")\n"
      ],
      "metadata": {
        "colab": {
          "base_uri": "https://localhost:8080/"
        },
        "id": "9Mlo1AsvW4vY",
        "outputId": "e269946e-b62f-483b-fad0-142388e7fa27"
      },
      "execution_count": 12,
      "outputs": [
        {
          "output_type": "stream",
          "name": "stdout",
          "text": [
            "Element at position 0 is 4\n",
            "Element at position 1 is 7\n",
            "Element at position 2 is 3\n",
            "Element at position 3 is 2\n",
            "Element at position 4 is 5\n",
            "Element at position 5 is 9\n"
          ]
        }
      ]
    },
    {
      "cell_type": "code",
      "source": [
        "def print_even_index_characters(input_string):\n",
        "    result = \"\"\n",
        "    for i in range(len(input_string)):\n",
        "        if i % 2 == 0:\n",
        "            result += input_string[i]\n",
        "    return result\n",
        "\n",
        "def main():\n",
        "    input_string = input(\"Enter a string: \")\n",
        "    result = print_even_index_characters(input_string)\n",
        "    print(\"Characters at even indexes:\", result)\n",
        "\n",
        "if __name__ == \"__main__\":\n",
        "    main()\n"
      ],
      "metadata": {
        "colab": {
          "base_uri": "https://localhost:8080/"
        },
        "id": "WOXL6xbmXwl8",
        "outputId": "d80980ee-4742-4606-b378-d2851a4640d1"
      },
      "execution_count": 13,
      "outputs": [
        {
          "output_type": "stream",
          "name": "stdout",
          "text": [
            "Enter a string: H1e2l3l4o5w6o7r8l9d\n",
            "Characters at even indexes: Helloworld\n"
          ]
        }
      ]
    },
    {
      "cell_type": "code",
      "source": [
        "def print_reverse_string(input_string):\n",
        "    reversed_string = input_string[::-1]\n",
        "    return reversed_string\n",
        "\n",
        "def main():\n",
        "    input_string = input(\"Enter a string: \")\n",
        "    reversed_string = print_reverse_string(input_string)\n",
        "    print(\"Reversed string:\", reversed_string)\n",
        "\n",
        "if __name__ == \"__main__\":\n",
        "    main()\n"
      ],
      "metadata": {
        "colab": {
          "base_uri": "https://localhost:8080/"
        },
        "id": "QUWmh0mgXwqV",
        "outputId": "7aa9df08-e285-4884-8f7f-09cd76d2946d"
      },
      "execution_count": 15,
      "outputs": [
        {
          "output_type": "stream",
          "name": "stdout",
          "text": [
            "Enter a string: rise to vote sir\n",
            "Reversed string: ris etov ot esir\n"
          ]
        }
      ]
    },
    {
      "cell_type": "code",
      "source": [
        "def count_characters(input_string):\n",
        "    char_count = {}\n",
        "\n",
        "    for char in input_string:\n",
        "        if char in char_count:\n",
        "            char_count[char] += 1\n",
        "        else:\n",
        "            char_count[char] = 1\n",
        "\n",
        "    return char_count\n",
        "\n",
        "def main():\n",
        "    input_string = input(\"Enter a string: \")\n",
        "    char_count = count_characters(input_string)\n",
        "\n",
        "    print(\"Character count:\")\n",
        "    for char, count in char_count.items():\n",
        "        print(f\"'{char}': {count}\")\n",
        "\n",
        "if __name__ == \"__main__\":\n",
        "    main()\n"
      ],
      "metadata": {
        "colab": {
          "base_uri": "https://localhost:8080/"
        },
        "id": "YPwSQo_NXwtY",
        "outputId": "d6a067a5-6644-4e50-b95e-26a15f9d7033"
      },
      "execution_count": 16,
      "outputs": [
        {
          "output_type": "stream",
          "name": "stdout",
          "text": [
            "Enter a string: abcdefgabc\n",
            "Character count:\n",
            "'a': 2\n",
            "'b': 2\n",
            "'c': 2\n",
            "'d': 1\n",
            "'e': 1\n",
            "'f': 1\n",
            "'g': 1\n"
          ]
        }
      ]
    },
    {
      "cell_type": "code",
      "source": [
        "def find_intersection(list1, list2):\n",
        "    intersection = [value for value in list1 if value in list2]\n",
        "    return intersection\n",
        "\n",
        "def main():\n",
        "    list1 = [1, 3, 6, 78, 35, 55]\n",
        "    list2 = [12, 24, 35, 24, 88, 120, 155]\n",
        "\n",
        "    result = find_intersection(list1, list2)\n",
        "    print(\"Intersection of the two lists:\", result)\n",
        "\n",
        "if __name__ == \"__main__\":\n",
        "    main()\n"
      ],
      "metadata": {
        "colab": {
          "base_uri": "https://localhost:8080/"
        },
        "id": "wdOOdvyWXwwm",
        "outputId": "bce569b4-fac6-49f4-d7f0-20c3489547b4"
      },
      "execution_count": 17,
      "outputs": [
        {
          "output_type": "stream",
          "name": "stdout",
          "text": [
            "Intersection of the two lists: [35]\n"
          ]
        }
      ]
    },
    {
      "cell_type": "code",
      "source": [
        "def remove_duplicates_with_reversed_order(input_list):\n",
        "    unique_list = []\n",
        "    seen = set()\n",
        "\n",
        "    for item in input_list[::-1]:\n",
        "        if item not in seen:\n",
        "            unique_list.insert(0, item)\n",
        "            seen.add(item)\n",
        "\n",
        "    return unique_list[::-1]\n",
        "\n",
        "def main():\n",
        "    input_list = [12, 24, 35, 24, 88, 120, 155, 88, 120, 155]\n",
        "    result = remove_duplicates_with_reversed_order(input_list)\n",
        "\n",
        "    print(\"List after removing duplicates with reversed order:\", result)\n",
        "\n",
        "if __name__ == \"__main__\":\n",
        "    main()\n"
      ],
      "metadata": {
        "colab": {
          "base_uri": "https://localhost:8080/"
        },
        "id": "QTYzqGgOW4zq",
        "outputId": "056f1f8c-382e-4f82-bb6e-f6342d750289"
      },
      "execution_count": 20,
      "outputs": [
        {
          "output_type": "stream",
          "name": "stdout",
          "text": [
            "List after removing duplicates with reversed order: [155, 120, 88, 24, 35, 12]\n"
          ]
        }
      ]
    },
    {
      "cell_type": "code",
      "source": [
        "def main():\n",
        "    input_list = [12, 24, 35, 24, 88, 120, 155]\n",
        "\n",
        "    result = [item for item in input_list if item != 24]\n",
        "    print(\"List after removing 24:\", result)\n",
        "\n",
        "if __name__ == \"__main__\":\n",
        "    main()\n"
      ],
      "metadata": {
        "colab": {
          "base_uri": "https://localhost:8080/"
        },
        "id": "9tcPwO53W43-",
        "outputId": "e81e7cf5-3915-43d1-90b3-f15aafe64918"
      },
      "execution_count": 21,
      "outputs": [
        {
          "output_type": "stream",
          "name": "stdout",
          "text": [
            "List after removing 24: [12, 35, 88, 120, 155]\n"
          ]
        }
      ]
    },
    {
      "cell_type": "code",
      "source": [
        "def main():\n",
        "    input_list = [12, 24, 35, 70, 88, 120, 155]\n",
        "\n",
        "    indices_to_remove = [0, 4, 5]\n",
        "    result = [input_list[i] for i in range(len(input_list)) if i not in indices_to_remove]\n",
        "\n",
        "    print(\"List after removing elements:\", result)\n",
        "\n",
        "if __name__ == \"__main__\":\n",
        "    main()\n"
      ],
      "metadata": {
        "colab": {
          "base_uri": "https://localhost:8080/"
        },
        "id": "Mz8LBrSHaMwe",
        "outputId": "b23978dc-3d5c-4b30-869e-0fc2231fe35e"
      },
      "execution_count": 22,
      "outputs": [
        {
          "output_type": "stream",
          "name": "stdout",
          "text": [
            "List after removing elements: [24, 35, 70, 155]\n"
          ]
        }
      ]
    },
    {
      "cell_type": "code",
      "source": [
        "def main():\n",
        "    input_list = [12, 24, 35, 70, 88, 120, 155]\n",
        "\n",
        "    result = [num for num in input_list if num % 5 != 0 or num % 7 != 0]\n",
        "    print(\"List after removing numbers divisible by 5 and 7:\", result)\n",
        "\n",
        "if __name__ == \"__main__\":\n",
        "    main()\n"
      ],
      "metadata": {
        "colab": {
          "base_uri": "https://localhost:8080/"
        },
        "id": "xVw2uVmbaM1Y",
        "outputId": "d3dfc6cc-0d32-483b-c2b2-cb494b7fabfa"
      },
      "execution_count": 23,
      "outputs": [
        {
          "output_type": "stream",
          "name": "stdout",
          "text": [
            "List after removing numbers divisible by 5 and 7: [12, 24, 88, 120, 155]\n"
          ]
        }
      ]
    },
    {
      "cell_type": "code",
      "source": [
        "import random\n",
        "\n",
        "def generate_divisible_numbers():\n",
        "    divisible_numbers = []\n",
        "\n",
        "    while len(divisible_numbers) < 5:\n",
        "        num = random.randint(1, 1000)\n",
        "        if num % 5 == 0 and num % 7 == 0:\n",
        "            divisible_numbers.append(num)\n",
        "\n",
        "    return divisible_numbers\n",
        "\n",
        "def main():\n",
        "    result = generate_divisible_numbers()\n",
        "    print(\"Generated list of numbers:\", result)\n",
        "\n",
        "if __name__ == \"__main__\":\n",
        "    main()\n"
      ],
      "metadata": {
        "colab": {
          "base_uri": "https://localhost:8080/"
        },
        "id": "ljD1fydkaydn",
        "outputId": "a519c052-7334-436d-a13a-6ba6ece767ef"
      },
      "execution_count": 24,
      "outputs": [
        {
          "output_type": "stream",
          "name": "stdout",
          "text": [
            "Generated list of numbers: [560, 665, 280, 350, 385]\n"
          ]
        }
      ]
    },
    {
      "cell_type": "code",
      "source": [
        "def compute_series_sum(n):\n",
        "    series_sum = 0.0\n",
        "\n",
        "    for i in range(1, n + 1):\n",
        "        series_sum += i / (i + 1)\n",
        "\n",
        "    return series_sum\n",
        "\n",
        "def main():\n",
        "    n = int(input(\"Enter a positive integer n: \"))\n",
        "\n",
        "    if n <= 0:\n",
        "        print(\"n should be greater than 0.\")\n",
        "    else:\n",
        "        result = compute_series_sum(n)\n",
        "        print(f\"Sum of the series 1/2 + 2/3 + ... + n/(n+1) is: {result:.4f}\")\n",
        "\n",
        "if __name__ == \"__main__\":\n",
        "    main()\n"
      ],
      "metadata": {
        "colab": {
          "base_uri": "https://localhost:8080/"
        },
        "id": "V85psggiaygD",
        "outputId": "2b95452e-6215-476c-f95c-a0424e64aabe"
      },
      "execution_count": 25,
      "outputs": [
        {
          "output_type": "stream",
          "name": "stdout",
          "text": [
            "Enter a positive integer n: 5\n",
            "Sum of the series 1/2 + 2/3 + ... + n/(n+1) is: 3.5500\n"
          ]
        }
      ]
    },
    {
      "cell_type": "code",
      "source": [],
      "metadata": {
        "id": "aVFDIBSLayiS"
      },
      "execution_count": null,
      "outputs": []
    },
    {
      "cell_type": "code",
      "source": [],
      "metadata": {
        "id": "BB2KRtanaykz"
      },
      "execution_count": null,
      "outputs": []
    },
    {
      "cell_type": "code",
      "source": [],
      "metadata": {
        "id": "fBCoccbaaATI"
      },
      "execution_count": null,
      "outputs": []
    },
    {
      "cell_type": "code",
      "source": [],
      "metadata": {
        "id": "6vp4O4xBaAVg"
      },
      "execution_count": null,
      "outputs": []
    },
    {
      "cell_type": "code",
      "source": [],
      "metadata": {
        "id": "hS_eLl_MaAZr"
      },
      "execution_count": null,
      "outputs": []
    },
    {
      "cell_type": "code",
      "source": [],
      "metadata": {
        "id": "bi9M7TGnW45-"
      },
      "execution_count": null,
      "outputs": []
    }
  ]
}